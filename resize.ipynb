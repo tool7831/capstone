{
 "cells": [
  {
   "cell_type": "code",
   "execution_count": null,
   "metadata": {},
   "outputs": [
    {
     "data": {
      "application/vnd.jupyter.widget-view+json": {
       "model_id": "a03da316e8874702b13f4a7d886f9431",
       "version_major": 2,
       "version_minor": 0
      },
      "text/plain": [
       "0it [00:00, ?it/s]"
      ]
     },
     "metadata": {},
     "output_type": "display_data"
    }
   ],
   "source": [
    "import os\n",
    "from PIL import Image\n",
    "from tqdm.auto import tqdm\n",
    "\n",
    "def resize_and_save_images(root_dir, output_dir, target_size=(128, 128)):\n",
    "    for dirpath, _, filenames in tqdm(os.walk(root_dir)):\n",
    "        for filename in filenames:\n",
    "            if filename.endswith(\".png\"):\n",
    "                file_path = os.path.join(dirpath, filename)\n",
    "                relative_path = os.path.relpath(dirpath, root_dir)\n",
    "                save_dir = os.path.join(output_dir, relative_path)\n",
    "                os.makedirs(save_dir, exist_ok=True)\n",
    "                \n",
    "                with Image.open(file_path) as img:\n",
    "                    # 이미지가 마스크인지 판별\n",
    "                    if \"ground_truth\" in dirpath:  \n",
    "                        resized_img = img.resize(target_size, Image.Resampling.NEAREST)\n",
    "                    else:  \n",
    "                        resized_img = img.resize(target_size, Image.Resampling.LANCZOS)\n",
    "                        \n",
    "                    save_path = os.path.join(save_dir, filename)\n",
    "                    resized_img.save(save_path)\n",
    "                # print(f\"Saved resized image to {save_path}\")\n",
    "\n",
    "# 사용 예시\n",
    "root_dir = 'mvtec_anomaly_detection'\n",
    "output_dir = 'mvtec_anomaly_detection_224'\n",
    "resize_and_save_images(root_dir, output_dir, target_size=(224, 224))\n"
   ]
  },
  {
   "cell_type": "code",
   "execution_count": null,
   "metadata": {},
   "outputs": [],
   "source": []
  }
 ],
 "metadata": {
  "kernelspec": {
   "display_name": "Python 3",
   "language": "python",
   "name": "python3"
  },
  "language_info": {
   "codemirror_mode": {
    "name": "ipython",
    "version": 3
   },
   "file_extension": ".py",
   "mimetype": "text/x-python",
   "name": "python",
   "nbconvert_exporter": "python",
   "pygments_lexer": "ipython3",
   "version": "3.10.12"
  }
 },
 "nbformat": 4,
 "nbformat_minor": 2
}
