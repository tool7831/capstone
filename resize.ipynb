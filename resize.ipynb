{
 "cells": [
  {
   "cell_type": "code",
   "execution_count": 1,
   "metadata": {},
   "outputs": [
    {
     "data": {
      "application/vnd.jupyter.widget-view+json": {
       "model_id": "b76e28693e2643419a1c4b2508598d5b",
       "version_major": 2,
       "version_minor": 0
      },
      "text/plain": [
       "0it [00:00, ?it/s]"
      ]
     },
     "metadata": {},
     "output_type": "display_data"
    }
   ],
   "source": [
    "import os\n",
    "from PIL import Image\n",
    "from tqdm.auto import tqdm\n",
    "\n",
    "def resize_and_save_images(root_dir, output_dir, target_size=(128, 128)):\n",
    "    # root_dir 하위의 모든 파일을 탐색\n",
    "    for dirpath, _, filenames in tqdm(os.walk(root_dir)):\n",
    "        for filename in filenames:\n",
    "            if filename.endswith(\".png\"):\n",
    "                # 파일 경로 및 변환 후 저장할 디렉토리 경로 설정\n",
    "                file_path = os.path.join(dirpath, filename)\n",
    "                relative_path = os.path.relpath(dirpath, root_dir)\n",
    "                save_dir = os.path.join(output_dir, relative_path)\n",
    "\n",
    "                # 저장할 디렉토리가 없으면 생성\n",
    "                os.makedirs(save_dir, exist_ok=True)\n",
    "                \n",
    "                # 이미지 변환 및 저장\n",
    "                with Image.open(file_path) as img:\n",
    "                    resized_img = img.resize(target_size)\n",
    "                    save_path = os.path.join(save_dir, filename)\n",
    "                    resized_img.save(save_path)\n",
    "                # print(f\"Saved resized image to {save_path}\")\n",
    "\n",
    "# 사용 예시\n",
    "root_dir = 'mvtec_anomaly_detection'  # 원본 이미지들이 있는 폴더\n",
    "output_dir = 'mvtec_anomaly_detection_288'  # 리사이즈된 이미지를 저장할 폴더\n",
    "resize_and_save_images(root_dir, output_dir, target_size=(288, 288))\n"
   ]
  },
  {
   "cell_type": "code",
   "execution_count": null,
   "metadata": {},
   "outputs": [],
   "source": []
  }
 ],
 "metadata": {
  "kernelspec": {
   "display_name": "Python 3",
   "language": "python",
   "name": "python3"
  },
  "language_info": {
   "codemirror_mode": {
    "name": "ipython",
    "version": 3
   },
   "file_extension": ".py",
   "mimetype": "text/x-python",
   "name": "python",
   "nbconvert_exporter": "python",
   "pygments_lexer": "ipython3",
   "version": "3.10.12"
  }
 },
 "nbformat": 4,
 "nbformat_minor": 2
}
