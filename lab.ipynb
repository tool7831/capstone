{
 "cells": [
  {
   "cell_type": "code",
   "execution_count": 5,
   "metadata": {},
   "outputs": [],
   "source": [
    "import tifffile as tiff\n",
    "import numpy as np"
   ]
  },
  {
   "cell_type": "code",
   "execution_count": 34,
   "metadata": {},
   "outputs": [],
   "source": [
    "img = tiff.imread('anomaly_maps/EfficientNetV2SAutoencoder_224/bottle/test/broken_large/010.tiff')"
   ]
  },
  {
   "cell_type": "code",
   "execution_count": 35,
   "metadata": {},
   "outputs": [
    {
     "data": {
      "text/plain": [
       "array([[2.03946198e-04, 2.00474780e-04, 1.93531931e-04, ...,\n",
       "        1.07035594e-04, 1.09928449e-04, 1.11374873e-04],\n",
       "       [2.00185488e-04, 1.96714071e-04, 1.90060498e-04, ...,\n",
       "        1.05589170e-04, 1.08482018e-04, 1.09928449e-04],\n",
       "       [1.92953361e-04, 1.89481929e-04, 1.83117649e-04, ...,\n",
       "        1.02696315e-04, 1.05299885e-04, 1.07035594e-04],\n",
       "       ...,\n",
       "       [6.07499305e-06, 5.78570780e-06, 5.49642255e-06, ...,\n",
       "        9.45963257e-05, 9.83570353e-05, 1.00382029e-04],\n",
       "       [6.07499305e-06, 6.07499305e-06, 5.78570780e-06, ...,\n",
       "        9.83570353e-05, 1.02407030e-04, 1.04142739e-04],\n",
       "       [6.36427876e-06, 6.07499305e-06, 5.78570780e-06, ...,\n",
       "        1.00382029e-04, 1.04142739e-04, 1.06167739e-04]], dtype=float32)"
      ]
     },
     "execution_count": 35,
     "metadata": {},
     "output_type": "execute_result"
    }
   ],
   "source": [
    "img"
   ]
  },
  {
   "cell_type": "code",
   "execution_count": 25,
   "metadata": {},
   "outputs": [],
   "source": [
    "nom_img = (img - np.min(img))/(np.max(img) - np.min(img))"
   ]
  },
  {
   "cell_type": "code",
   "execution_count": 38,
   "metadata": {},
   "outputs": [
    {
     "data": {
      "text/plain": [
       "446"
      ]
     },
     "execution_count": 38,
     "metadata": {},
     "output_type": "execute_result"
    }
   ],
   "source": [
    "len(np.where(img > 0.7)[0])"
   ]
  },
  {
   "cell_type": "code",
   "execution_count": null,
   "metadata": {},
   "outputs": [],
   "source": []
  }
 ],
 "metadata": {
  "kernelspec": {
   "display_name": "Python 3",
   "language": "python",
   "name": "python3"
  },
  "language_info": {
   "codemirror_mode": {
    "name": "ipython",
    "version": 3
   },
   "file_extension": ".py",
   "mimetype": "text/x-python",
   "name": "python",
   "nbconvert_exporter": "python",
   "pygments_lexer": "ipython3",
   "version": "3.10.12"
  }
 },
 "nbformat": 4,
 "nbformat_minor": 2
}
